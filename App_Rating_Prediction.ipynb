{
 "cells": [
  {
   "cell_type": "markdown",
   "id": "0e2289f4",
   "metadata": {},
   "source": [
    "# App Rating Prediction"
   ]
  },
  {
   "cell_type": "markdown",
   "id": "675e443d",
   "metadata": {},
   "source": [
    "## DESCRIPTION\n",
    "\n",
    "### Objective: \n",
    "**Make a model to predict the app rating, with other information about the app provided.**\n",
    "\n",
    "### Problem Statement:\n",
    "\n",
    "Google Play Store team is about to launch a new feature wherein, certain apps that are promising, are boosted in visibility. The boost will manifest in multiple ways including higher priority in recommendations sections (“Similar apps”, “You might also like”, “New and updated games”). These will also get a boost in search results visibility.  This feature will help bring more attention to newer apps that have the potential.\n",
    "\n",
    "### Domain: General\n",
    "\n",
    "### Analysis to be done: \n",
    "The problem is to identify the apps that are going to be good for Google to promote. App ratings, which are provided by the customers, is always a great indicator of the goodness of the app. The problem reduces to: predict which apps will have high ratings.\n",
    "\n",
    "### Fields in the data-\n",
    "\n",
    "- App: Application name\n",
    "\n",
    "- Category: Category to which the app belongs \n",
    "\n",
    "- Rating: Overall user rating of the app\n",
    "\n",
    "- Reviews: Number of user reviews for the app\n",
    "\n",
    "- Size: Size of the app in Kb/Mb\n",
    "\n",
    "- Installs: Number of user downloads/installs for the app\n",
    "\n",
    "- Type: Paid or Free\n",
    "\n",
    "- Price: Price of the app\n",
    "\n",
    "- Content Rating: Age group the app is targeted at - Children / Mature 21+ / Adult\n",
    "\n",
    "- Genres: An app can belong to multiple genres (apart from its main category). For example, a musical family game will belong to Music, Game, Family genres.\n",
    "\n",
    "- Last Updated: Date when the app was last updated on Play Store\n",
    "\n",
    "- Current Ver: Current version of the app available on Play Store\n",
    "\n",
    "- Android Ver: Minimum required Android version"
   ]
  },
  {
   "cell_type": "code",
   "execution_count": 229,
   "id": "115dbb4f",
   "metadata": {},
   "outputs": [],
   "source": [
    "# Importing all the tools (packages) required\n",
    "\n",
    "%matplotlib inline \n",
    "import numpy as np\n",
    "import pandas as pd\n",
    "import seaborn as sns\n",
    "import matplotlib.pyplot as plt\n",
    "import warnings"
   ]
  },
  {
   "cell_type": "markdown",
   "id": "9ba6529d",
   "metadata": {},
   "source": [
    "## 1. Load the data file using pandas as a dataframe. "
   ]
  },
  {
   "cell_type": "code",
   "execution_count": 230,
   "id": "47bfdb9f",
   "metadata": {},
   "outputs": [
    {
     "data": {
      "text/html": [
       "<div>\n",
       "<style scoped>\n",
       "    .dataframe tbody tr th:only-of-type {\n",
       "        vertical-align: middle;\n",
       "    }\n",
       "\n",
       "    .dataframe tbody tr th {\n",
       "        vertical-align: top;\n",
       "    }\n",
       "\n",
       "    .dataframe thead th {\n",
       "        text-align: right;\n",
       "    }\n",
       "</style>\n",
       "<table border=\"1\" class=\"dataframe\">\n",
       "  <thead>\n",
       "    <tr style=\"text-align: right;\">\n",
       "      <th></th>\n",
       "      <th>App</th>\n",
       "      <th>Category</th>\n",
       "      <th>Rating</th>\n",
       "      <th>Reviews</th>\n",
       "      <th>Size</th>\n",
       "      <th>Installs</th>\n",
       "      <th>Type</th>\n",
       "      <th>Price</th>\n",
       "      <th>Content Rating</th>\n",
       "      <th>Genres</th>\n",
       "      <th>Last Updated</th>\n",
       "      <th>Current Ver</th>\n",
       "      <th>Android Ver</th>\n",
       "    </tr>\n",
       "  </thead>\n",
       "  <tbody>\n",
       "    <tr>\n",
       "      <th>0</th>\n",
       "      <td>Photo Editor &amp; Candy Camera &amp; Grid &amp; ScrapBook</td>\n",
       "      <td>ART_AND_DESIGN</td>\n",
       "      <td>4.1</td>\n",
       "      <td>159</td>\n",
       "      <td>19M</td>\n",
       "      <td>10,000+</td>\n",
       "      <td>Free</td>\n",
       "      <td>0</td>\n",
       "      <td>Everyone</td>\n",
       "      <td>Art &amp; Design</td>\n",
       "      <td>January 7, 2018</td>\n",
       "      <td>1.0.0</td>\n",
       "      <td>4.0.3 and up</td>\n",
       "    </tr>\n",
       "    <tr>\n",
       "      <th>1</th>\n",
       "      <td>Coloring book moana</td>\n",
       "      <td>ART_AND_DESIGN</td>\n",
       "      <td>3.9</td>\n",
       "      <td>967</td>\n",
       "      <td>14M</td>\n",
       "      <td>500,000+</td>\n",
       "      <td>Free</td>\n",
       "      <td>0</td>\n",
       "      <td>Everyone</td>\n",
       "      <td>Art &amp; Design;Pretend Play</td>\n",
       "      <td>January 15, 2018</td>\n",
       "      <td>2.0.0</td>\n",
       "      <td>4.0.3 and up</td>\n",
       "    </tr>\n",
       "    <tr>\n",
       "      <th>2</th>\n",
       "      <td>U Launcher Lite – FREE Live Cool Themes, Hide ...</td>\n",
       "      <td>ART_AND_DESIGN</td>\n",
       "      <td>4.7</td>\n",
       "      <td>87510</td>\n",
       "      <td>8.7M</td>\n",
       "      <td>5,000,000+</td>\n",
       "      <td>Free</td>\n",
       "      <td>0</td>\n",
       "      <td>Everyone</td>\n",
       "      <td>Art &amp; Design</td>\n",
       "      <td>August 1, 2018</td>\n",
       "      <td>1.2.4</td>\n",
       "      <td>4.0.3 and up</td>\n",
       "    </tr>\n",
       "    <tr>\n",
       "      <th>3</th>\n",
       "      <td>Sketch - Draw &amp; Paint</td>\n",
       "      <td>ART_AND_DESIGN</td>\n",
       "      <td>4.5</td>\n",
       "      <td>215644</td>\n",
       "      <td>25M</td>\n",
       "      <td>50,000,000+</td>\n",
       "      <td>Free</td>\n",
       "      <td>0</td>\n",
       "      <td>Teen</td>\n",
       "      <td>Art &amp; Design</td>\n",
       "      <td>June 8, 2018</td>\n",
       "      <td>Varies with device</td>\n",
       "      <td>4.2 and up</td>\n",
       "    </tr>\n",
       "    <tr>\n",
       "      <th>4</th>\n",
       "      <td>Pixel Draw - Number Art Coloring Book</td>\n",
       "      <td>ART_AND_DESIGN</td>\n",
       "      <td>4.3</td>\n",
       "      <td>967</td>\n",
       "      <td>2.8M</td>\n",
       "      <td>100,000+</td>\n",
       "      <td>Free</td>\n",
       "      <td>0</td>\n",
       "      <td>Everyone</td>\n",
       "      <td>Art &amp; Design;Creativity</td>\n",
       "      <td>June 20, 2018</td>\n",
       "      <td>1.1</td>\n",
       "      <td>4.4 and up</td>\n",
       "    </tr>\n",
       "  </tbody>\n",
       "</table>\n",
       "</div>"
      ],
      "text/plain": [
       "                                                 App        Category  Rating  \\\n",
       "0     Photo Editor & Candy Camera & Grid & ScrapBook  ART_AND_DESIGN     4.1   \n",
       "1                                Coloring book moana  ART_AND_DESIGN     3.9   \n",
       "2  U Launcher Lite – FREE Live Cool Themes, Hide ...  ART_AND_DESIGN     4.7   \n",
       "3                              Sketch - Draw & Paint  ART_AND_DESIGN     4.5   \n",
       "4              Pixel Draw - Number Art Coloring Book  ART_AND_DESIGN     4.3   \n",
       "\n",
       "  Reviews  Size     Installs  Type Price Content Rating  \\\n",
       "0     159   19M      10,000+  Free     0       Everyone   \n",
       "1     967   14M     500,000+  Free     0       Everyone   \n",
       "2   87510  8.7M   5,000,000+  Free     0       Everyone   \n",
       "3  215644   25M  50,000,000+  Free     0           Teen   \n",
       "4     967  2.8M     100,000+  Free     0       Everyone   \n",
       "\n",
       "                      Genres      Last Updated         Current Ver  \\\n",
       "0               Art & Design   January 7, 2018               1.0.0   \n",
       "1  Art & Design;Pretend Play  January 15, 2018               2.0.0   \n",
       "2               Art & Design    August 1, 2018               1.2.4   \n",
       "3               Art & Design      June 8, 2018  Varies with device   \n",
       "4    Art & Design;Creativity     June 20, 2018                 1.1   \n",
       "\n",
       "    Android Ver  \n",
       "0  4.0.3 and up  \n",
       "1  4.0.3 and up  \n",
       "2  4.0.3 and up  \n",
       "3    4.2 and up  \n",
       "4    4.4 and up  "
      ]
     },
     "execution_count": 230,
     "metadata": {},
     "output_type": "execute_result"
    }
   ],
   "source": [
    "warnings.filterwarnings('ignore')\n",
    "\n",
    "df = pd.read_csv('googleplaystore.csv')\n",
    "df.head(5)"
   ]
  },
  {
   "cell_type": "code",
   "execution_count": 231,
   "id": "ed8f46bd",
   "metadata": {},
   "outputs": [
    {
     "name": "stdout",
     "output_type": "stream",
     "text": [
      "<class 'pandas.core.frame.DataFrame'>\n",
      "RangeIndex: 10841 entries, 0 to 10840\n",
      "Data columns (total 13 columns):\n",
      " #   Column          Non-Null Count  Dtype  \n",
      "---  ------          --------------  -----  \n",
      " 0   App             10841 non-null  object \n",
      " 1   Category        10841 non-null  object \n",
      " 2   Rating          9367 non-null   float64\n",
      " 3   Reviews         10841 non-null  object \n",
      " 4   Size            10841 non-null  object \n",
      " 5   Installs        10841 non-null  object \n",
      " 6   Type            10840 non-null  object \n",
      " 7   Price           10841 non-null  object \n",
      " 8   Content Rating  10840 non-null  object \n",
      " 9   Genres          10841 non-null  object \n",
      " 10  Last Updated    10841 non-null  object \n",
      " 11  Current Ver     10833 non-null  object \n",
      " 12  Android Ver     10838 non-null  object \n",
      "dtypes: float64(1), object(12)\n",
      "memory usage: 1.1+ MB\n"
     ]
    }
   ],
   "source": [
    "df.info()  # to get the better understanding of dataset"
   ]
  },
  {
   "cell_type": "markdown",
   "id": "5e3f337e",
   "metadata": {},
   "source": [
    "## 2. Check for NULL values in the dataset. \n",
    "**Showing the number of NULL values for each column.**"
   ]
  },
  {
   "cell_type": "code",
   "execution_count": 232,
   "id": "29d3becb",
   "metadata": {},
   "outputs": [
    {
     "data": {
      "text/plain": [
       "App                  0\n",
       "Category             0\n",
       "Rating            1474\n",
       "Reviews              0\n",
       "Size                 0\n",
       "Installs             0\n",
       "Type                 1\n",
       "Price                0\n",
       "Content Rating       1\n",
       "Genres               0\n",
       "Last Updated         0\n",
       "Current Ver          8\n",
       "Android Ver          3\n",
       "dtype: int64"
      ]
     },
     "execution_count": 232,
     "metadata": {},
     "output_type": "execute_result"
    }
   ],
   "source": [
    "df.isnull().sum() "
   ]
  },
  {
   "cell_type": "markdown",
   "id": "77f52758",
   "metadata": {},
   "source": [
    "## 3. Drop records with nulls in any of the columns. "
   ]
  },
  {
   "cell_type": "code",
   "execution_count": 233,
   "id": "96044372",
   "metadata": {},
   "outputs": [
    {
     "data": {
      "text/plain": [
       "(10841, 13)"
      ]
     },
     "execution_count": 233,
     "metadata": {},
     "output_type": "execute_result"
    }
   ],
   "source": [
    "df.shape            # Complete dataset has 10841 rows and 13 columns with NULL"
   ]
  },
  {
   "cell_type": "code",
   "execution_count": 234,
   "id": "fd39c848",
   "metadata": {},
   "outputs": [],
   "source": [
    "df.dropna(inplace = True) # Drop NA or NULL values"
   ]
  },
  {
   "cell_type": "code",
   "execution_count": 235,
   "id": "3ccd3bc1",
   "metadata": {},
   "outputs": [
    {
     "data": {
      "text/plain": [
       "(9360, 13)"
      ]
     },
     "execution_count": 235,
     "metadata": {},
     "output_type": "execute_result"
    }
   ],
   "source": [
    "df.shape          # Dataset after DROPNA "
   ]
  },
  {
   "cell_type": "markdown",
   "id": "ab31e20b",
   "metadata": {},
   "source": [
    "## 4. Variables seem to have incorrect type and inconsistent formatting. "
   ]
  },
  {
   "cell_type": "markdown",
   "id": "9f5c65a2",
   "metadata": {},
   "source": [
    "\n",
    "- #### 4.1 \"Size\" column has sizes in Kb as well as Mb. To analyze, you’ll need to convert these to numeric."
   ]
  },
  {
   "cell_type": "code",
   "execution_count": 236,
   "id": "2cd415fc",
   "metadata": {},
   "outputs": [
    {
     "data": {
      "text/plain": [
       "array(['19M', '14M', '8.7M', '25M', '2.8M', '5.6M', '29M', '33M', '3.1M',\n",
       "       '28M', '12M', '20M', '21M', '37M', '5.5M', '17M', '39M', '31M',\n",
       "       '4.2M', '23M', '6.0M', '6.1M', '4.6M', '9.2M', '5.2M', '11M',\n",
       "       '24M', 'Varies with device', '9.4M', '15M', '10M', '1.2M', '26M',\n",
       "       '8.0M', '7.9M', '56M', '57M', '35M', '54M', '201k', '3.6M', '5.7M',\n",
       "       '8.6M', '2.4M', '27M', '2.7M', '2.5M', '7.0M', '16M', '3.4M',\n",
       "       '8.9M', '3.9M', '2.9M', '38M', '32M', '5.4M', '18M', '1.1M',\n",
       "       '2.2M', '4.5M', '9.8M', '52M', '9.0M', '6.7M', '30M', '2.6M',\n",
       "       '7.1M', '22M', '6.4M', '3.2M', '8.2M', '4.9M', '9.5M', '5.0M',\n",
       "       '5.9M', '13M', '73M', '6.8M', '3.5M', '4.0M', '2.3M', '2.1M',\n",
       "       '42M', '9.1M', '55M', '23k', '7.3M', '6.5M', '1.5M', '7.5M', '51M',\n",
       "       '41M', '48M', '8.5M', '46M', '8.3M', '4.3M', '4.7M', '3.3M', '40M',\n",
       "       '7.8M', '8.8M', '6.6M', '5.1M', '61M', '66M', '79k', '8.4M',\n",
       "       '3.7M', '118k', '44M', '695k', '1.6M', '6.2M', '53M', '1.4M',\n",
       "       '3.0M', '7.2M', '5.8M', '3.8M', '9.6M', '45M', '63M', '49M', '77M',\n",
       "       '4.4M', '70M', '9.3M', '8.1M', '36M', '6.9M', '7.4M', '84M', '97M',\n",
       "       '2.0M', '1.9M', '1.8M', '5.3M', '47M', '556k', '526k', '76M',\n",
       "       '7.6M', '59M', '9.7M', '78M', '72M', '43M', '7.7M', '6.3M', '334k',\n",
       "       '93M', '65M', '79M', '100M', '58M', '50M', '68M', '64M', '34M',\n",
       "       '67M', '60M', '94M', '9.9M', '232k', '99M', '624k', '95M', '8.5k',\n",
       "       '41k', '292k', '80M', '1.7M', '10.0M', '74M', '62M', '69M', '75M',\n",
       "       '98M', '85M', '82M', '96M', '87M', '71M', '86M', '91M', '81M',\n",
       "       '92M', '83M', '88M', '704k', '862k', '899k', '378k', '4.8M',\n",
       "       '266k', '375k', '1.3M', '975k', '980k', '4.1M', '89M', '696k',\n",
       "       '544k', '525k', '920k', '779k', '853k', '720k', '713k', '772k',\n",
       "       '318k', '58k', '241k', '196k', '857k', '51k', '953k', '865k',\n",
       "       '251k', '930k', '540k', '313k', '746k', '203k', '26k', '314k',\n",
       "       '239k', '371k', '220k', '730k', '756k', '91k', '293k', '17k',\n",
       "       '74k', '14k', '317k', '78k', '924k', '818k', '81k', '939k', '169k',\n",
       "       '45k', '965k', '90M', '545k', '61k', '283k', '655k', '714k', '93k',\n",
       "       '872k', '121k', '322k', '976k', '206k', '954k', '444k', '717k',\n",
       "       '210k', '609k', '308k', '306k', '175k', '350k', '383k', '454k',\n",
       "       '1.0M', '70k', '812k', '442k', '842k', '417k', '412k', '459k',\n",
       "       '478k', '335k', '782k', '721k', '430k', '429k', '192k', '460k',\n",
       "       '728k', '496k', '816k', '414k', '506k', '887k', '613k', '778k',\n",
       "       '683k', '592k', '186k', '840k', '647k', '373k', '437k', '598k',\n",
       "       '716k', '585k', '982k', '219k', '55k', '323k', '691k', '511k',\n",
       "       '951k', '963k', '25k', '554k', '351k', '27k', '82k', '208k',\n",
       "       '551k', '29k', '103k', '116k', '153k', '209k', '499k', '173k',\n",
       "       '597k', '809k', '122k', '411k', '400k', '801k', '787k', '50k',\n",
       "       '643k', '986k', '516k', '837k', '780k', '20k', '498k', '600k',\n",
       "       '656k', '221k', '228k', '176k', '34k', '259k', '164k', '458k',\n",
       "       '629k', '28k', '288k', '775k', '785k', '636k', '916k', '994k',\n",
       "       '309k', '485k', '914k', '903k', '608k', '500k', '54k', '562k',\n",
       "       '847k', '948k', '811k', '270k', '48k', '523k', '784k', '280k',\n",
       "       '24k', '892k', '154k', '18k', '33k', '860k', '364k', '387k',\n",
       "       '626k', '161k', '879k', '39k', '170k', '141k', '160k', '144k',\n",
       "       '143k', '190k', '376k', '193k', '473k', '246k', '73k', '253k',\n",
       "       '957k', '420k', '72k', '404k', '470k', '226k', '240k', '89k',\n",
       "       '234k', '257k', '861k', '467k', '676k', '552k', '582k', '619k'],\n",
       "      dtype=object)"
      ]
     },
     "execution_count": 236,
     "metadata": {},
     "output_type": "execute_result"
    }
   ],
   "source": [
    "df.Size.unique() # To show the inconsistency in App Size"
   ]
  },
  {
   "cell_type": "code",
   "execution_count": 237,
   "id": "3c2cded0",
   "metadata": {},
   "outputs": [],
   "source": [
    "'''\n",
    "1. Extract Value\n",
    "2. Check if its M or K in the end\n",
    "3. If 'M' then multiply the value by 1000 to convert it into kB as a float datatype.\n",
    "4. If 'K' then keep it as is and convert it into a float datatype. \n",
    "\n",
    "'''\n",
    "\n",
    "def change_size(size):\n",
    "    if 'M' in size:\n",
    "        x = size[:-1]\n",
    "        x = float(x)*1000\n",
    "        return(x)\n",
    "    elif 'k' == size[-1:]:\n",
    "        x = size[:-1]\n",
    "        x = float(x)\n",
    "        return(x)\n",
    "    else:\n",
    "        return None"
   ]
  },
  {
   "cell_type": "code",
   "execution_count": 238,
   "id": "5e6e455c",
   "metadata": {},
   "outputs": [],
   "source": [
    "df['formated_size']= df['Size'].apply(change_size)"
   ]
  },
  {
   "cell_type": "code",
   "execution_count": 239,
   "id": "520716e0",
   "metadata": {},
   "outputs": [
    {
     "data": {
      "text/plain": [
       "array([1.90e+04, 1.40e+04, 8.70e+03, 2.50e+04, 2.80e+03, 5.60e+03,\n",
       "       2.90e+04, 3.30e+04, 3.10e+03, 2.80e+04, 1.20e+04, 2.00e+04,\n",
       "       2.10e+04, 3.70e+04, 5.50e+03, 1.70e+04, 3.90e+04, 3.10e+04,\n",
       "       4.20e+03, 2.30e+04, 6.00e+03, 6.10e+03, 4.60e+03, 9.20e+03,\n",
       "       5.20e+03, 1.10e+04, 2.40e+04,      nan, 9.40e+03, 1.50e+04,\n",
       "       1.00e+04, 1.20e+03, 2.60e+04, 8.00e+03, 7.90e+03, 5.60e+04,\n",
       "       5.70e+04, 3.50e+04, 5.40e+04, 2.01e+02, 3.60e+03, 5.70e+03,\n",
       "       8.60e+03, 2.40e+03, 2.70e+04, 2.70e+03, 2.50e+03, 7.00e+03,\n",
       "       1.60e+04, 3.40e+03, 8.90e+03, 3.90e+03, 2.90e+03, 3.80e+04,\n",
       "       3.20e+04, 5.40e+03, 1.80e+04, 1.10e+03, 2.20e+03, 4.50e+03,\n",
       "       9.80e+03, 5.20e+04, 9.00e+03, 6.70e+03, 3.00e+04, 2.60e+03,\n",
       "       7.10e+03, 2.20e+04, 6.40e+03, 3.20e+03, 8.20e+03, 4.90e+03,\n",
       "       9.50e+03, 5.00e+03, 5.90e+03, 1.30e+04, 7.30e+04, 6.80e+03,\n",
       "       3.50e+03, 4.00e+03, 2.30e+03, 2.10e+03, 4.20e+04, 9.10e+03,\n",
       "       5.50e+04, 2.30e+01, 7.30e+03, 6.50e+03, 1.50e+03, 7.50e+03,\n",
       "       5.10e+04, 4.10e+04, 4.80e+04, 8.50e+03, 4.60e+04, 8.30e+03,\n",
       "       4.30e+03, 4.70e+03, 3.30e+03, 4.00e+04, 7.80e+03, 8.80e+03,\n",
       "       6.60e+03, 5.10e+03, 6.10e+04, 6.60e+04, 7.90e+01, 8.40e+03,\n",
       "       3.70e+03, 1.18e+02, 4.40e+04, 6.95e+02, 1.60e+03, 6.20e+03,\n",
       "       5.30e+04, 1.40e+03, 3.00e+03, 7.20e+03, 5.80e+03, 3.80e+03,\n",
       "       9.60e+03, 4.50e+04, 6.30e+04, 4.90e+04, 7.70e+04, 4.40e+03,\n",
       "       7.00e+04, 9.30e+03, 8.10e+03, 3.60e+04, 6.90e+03, 7.40e+03,\n",
       "       8.40e+04, 9.70e+04, 2.00e+03, 1.90e+03, 1.80e+03, 5.30e+03,\n",
       "       4.70e+04, 5.56e+02, 5.26e+02, 7.60e+04, 7.60e+03, 5.90e+04,\n",
       "       9.70e+03, 7.80e+04, 7.20e+04, 4.30e+04, 7.70e+03, 6.30e+03,\n",
       "       3.34e+02, 9.30e+04, 6.50e+04, 7.90e+04, 1.00e+05, 5.80e+04,\n",
       "       5.00e+04, 6.80e+04, 6.40e+04, 3.40e+04, 6.70e+04, 6.00e+04,\n",
       "       9.40e+04, 9.90e+03, 2.32e+02, 9.90e+04, 6.24e+02, 9.50e+04,\n",
       "       8.50e+00, 4.10e+01, 2.92e+02, 8.00e+04, 1.70e+03, 7.40e+04,\n",
       "       6.20e+04, 6.90e+04, 7.50e+04, 9.80e+04, 8.50e+04, 8.20e+04,\n",
       "       9.60e+04, 8.70e+04, 7.10e+04, 8.60e+04, 9.10e+04, 8.10e+04,\n",
       "       9.20e+04, 8.30e+04, 8.80e+04, 7.04e+02, 8.62e+02, 8.99e+02,\n",
       "       3.78e+02, 4.80e+03, 2.66e+02, 3.75e+02, 1.30e+03, 9.75e+02,\n",
       "       9.80e+02, 4.10e+03, 8.90e+04, 6.96e+02, 5.44e+02, 5.25e+02,\n",
       "       9.20e+02, 7.79e+02, 8.53e+02, 7.20e+02, 7.13e+02, 7.72e+02,\n",
       "       3.18e+02, 5.80e+01, 2.41e+02, 1.96e+02, 8.57e+02, 5.10e+01,\n",
       "       9.53e+02, 8.65e+02, 2.51e+02, 9.30e+02, 5.40e+02, 3.13e+02,\n",
       "       7.46e+02, 2.03e+02, 2.60e+01, 3.14e+02, 2.39e+02, 3.71e+02,\n",
       "       2.20e+02, 7.30e+02, 7.56e+02, 9.10e+01, 2.93e+02, 1.70e+01,\n",
       "       7.40e+01, 1.40e+01, 3.17e+02, 7.80e+01, 9.24e+02, 8.18e+02,\n",
       "       8.10e+01, 9.39e+02, 1.69e+02, 4.50e+01, 9.65e+02, 9.00e+04,\n",
       "       5.45e+02, 6.10e+01, 2.83e+02, 6.55e+02, 7.14e+02, 9.30e+01,\n",
       "       8.72e+02, 1.21e+02, 3.22e+02, 9.76e+02, 2.06e+02, 9.54e+02,\n",
       "       4.44e+02, 7.17e+02, 2.10e+02, 6.09e+02, 3.08e+02, 3.06e+02,\n",
       "       1.75e+02, 3.50e+02, 3.83e+02, 4.54e+02, 1.00e+03, 7.00e+01,\n",
       "       8.12e+02, 4.42e+02, 8.42e+02, 4.17e+02, 4.12e+02, 4.59e+02,\n",
       "       4.78e+02, 3.35e+02, 7.82e+02, 7.21e+02, 4.30e+02, 4.29e+02,\n",
       "       1.92e+02, 4.60e+02, 7.28e+02, 4.96e+02, 8.16e+02, 4.14e+02,\n",
       "       5.06e+02, 8.87e+02, 6.13e+02, 7.78e+02, 6.83e+02, 5.92e+02,\n",
       "       1.86e+02, 8.40e+02, 6.47e+02, 3.73e+02, 4.37e+02, 5.98e+02,\n",
       "       7.16e+02, 5.85e+02, 9.82e+02, 2.19e+02, 5.50e+01, 3.23e+02,\n",
       "       6.91e+02, 5.11e+02, 9.51e+02, 9.63e+02, 2.50e+01, 5.54e+02,\n",
       "       3.51e+02, 2.70e+01, 8.20e+01, 2.08e+02, 5.51e+02, 2.90e+01,\n",
       "       1.03e+02, 1.16e+02, 1.53e+02, 2.09e+02, 4.99e+02, 1.73e+02,\n",
       "       5.97e+02, 8.09e+02, 1.22e+02, 4.11e+02, 4.00e+02, 8.01e+02,\n",
       "       7.87e+02, 5.00e+01, 6.43e+02, 9.86e+02, 5.16e+02, 8.37e+02,\n",
       "       7.80e+02, 2.00e+01, 4.98e+02, 6.00e+02, 6.56e+02, 2.21e+02,\n",
       "       2.28e+02, 1.76e+02, 3.40e+01, 2.59e+02, 1.64e+02, 4.58e+02,\n",
       "       6.29e+02, 2.80e+01, 2.88e+02, 7.75e+02, 7.85e+02, 6.36e+02,\n",
       "       9.16e+02, 9.94e+02, 3.09e+02, 4.85e+02, 9.14e+02, 9.03e+02,\n",
       "       6.08e+02, 5.00e+02, 5.40e+01, 5.62e+02, 8.47e+02, 9.48e+02,\n",
       "       8.11e+02, 2.70e+02, 4.80e+01, 5.23e+02, 7.84e+02, 2.80e+02,\n",
       "       2.40e+01, 8.92e+02, 1.54e+02, 1.80e+01, 3.30e+01, 8.60e+02,\n",
       "       3.64e+02, 3.87e+02, 6.26e+02, 1.61e+02, 8.79e+02, 3.90e+01,\n",
       "       1.70e+02, 1.41e+02, 1.60e+02, 1.44e+02, 1.43e+02, 1.90e+02,\n",
       "       3.76e+02, 1.93e+02, 4.73e+02, 2.46e+02, 7.30e+01, 2.53e+02,\n",
       "       9.57e+02, 4.20e+02, 7.20e+01, 4.04e+02, 4.70e+02, 2.26e+02,\n",
       "       2.40e+02, 8.90e+01, 2.34e+02, 2.57e+02, 8.61e+02, 4.67e+02,\n",
       "       6.76e+02, 5.52e+02, 5.82e+02, 6.19e+02])"
      ]
     },
     "execution_count": 239,
     "metadata": {},
     "output_type": "execute_result"
    }
   ],
   "source": [
    "df['formated_size'].unique()"
   ]
  },
  {
   "cell_type": "code",
   "execution_count": 240,
   "id": "9e1bbe66",
   "metadata": {},
   "outputs": [],
   "source": [
    "df[\"Size\"]= df[\"formated_size\"]"
   ]
  },
  {
   "cell_type": "code",
   "execution_count": 241,
   "id": "cb60e6e7",
   "metadata": {},
   "outputs": [
    {
     "data": {
      "text/plain": [
       "(9360,)"
      ]
     },
     "execution_count": 241,
     "metadata": {},
     "output_type": "execute_result"
    }
   ],
   "source": [
    "df.Size.shape"
   ]
  },
  {
   "cell_type": "code",
   "execution_count": 242,
   "id": "81c1477e",
   "metadata": {},
   "outputs": [
    {
     "data": {
      "text/plain": [
       "1637"
      ]
     },
     "execution_count": 242,
     "metadata": {},
     "output_type": "execute_result"
    }
   ],
   "source": [
    "df['Size'].isnull().sum()"
   ]
  },
  {
   "cell_type": "code",
   "execution_count": 243,
   "id": "aa4a293b",
   "metadata": {},
   "outputs": [],
   "source": [
    "df.dropna(subset=['Size'],inplace=True)"
   ]
  },
  {
   "cell_type": "code",
   "execution_count": 244,
   "id": "ff180022",
   "metadata": {},
   "outputs": [
    {
     "data": {
      "text/plain": [
       "(7723,)"
      ]
     },
     "execution_count": 244,
     "metadata": {},
     "output_type": "execute_result"
    }
   ],
   "source": [
    "df.Size.shape"
   ]
  },
  {
   "cell_type": "code",
   "execution_count": 245,
   "id": "51b79703",
   "metadata": {},
   "outputs": [
    {
     "data": {
      "text/plain": [
       "0"
      ]
     },
     "execution_count": 245,
     "metadata": {},
     "output_type": "execute_result"
    }
   ],
   "source": [
    "df['Size'].isnull().sum()"
   ]
  },
  {
   "cell_type": "markdown",
   "id": "fa01a6cf",
   "metadata": {},
   "source": [
    "#### - 4.2 \"Reviews\" is a numeric field that is loaded as a string field. Convert it to numeric (int/float)."
   ]
  },
  {
   "cell_type": "code",
   "execution_count": 246,
   "id": "4fda2cdb",
   "metadata": {},
   "outputs": [
    {
     "data": {
      "text/plain": [
       "dtype('O')"
      ]
     },
     "execution_count": 246,
     "metadata": {},
     "output_type": "execute_result"
    }
   ],
   "source": [
    "df.Reviews.dtype"
   ]
  },
  {
   "cell_type": "code",
   "execution_count": 247,
   "id": "526f1d8f",
   "metadata": {},
   "outputs": [],
   "source": [
    "df.Reviews = df.Reviews.astype('float64')"
   ]
  },
  {
   "cell_type": "code",
   "execution_count": 248,
   "id": "b202e408",
   "metadata": {},
   "outputs": [
    {
     "data": {
      "text/plain": [
       "dtype('float64')"
      ]
     },
     "execution_count": 248,
     "metadata": {},
     "output_type": "execute_result"
    }
   ],
   "source": [
    "df.Reviews.dtype"
   ]
  },
  {
   "cell_type": "markdown",
   "id": "e8dd8771",
   "metadata": {},
   "source": [
    "#### - 4.3 \"Installs\" field is currently stored as string and has values like 1,000,000+. \n",
    "\n",
    "- Treat 1,000,000+ as 1,000,000\n",
    "\n",
    "- remove ‘+’, ‘,’ from the field, convert it to integer"
   ]
  },
  {
   "cell_type": "code",
   "execution_count": 249,
   "id": "d70f02ec",
   "metadata": {},
   "outputs": [],
   "source": [
    "df.Installs = df.Installs.str.replace('+','').str.replace(',','').astype('int64')"
   ]
  },
  {
   "cell_type": "code",
   "execution_count": 250,
   "id": "b121ff21",
   "metadata": {},
   "outputs": [
    {
     "data": {
      "text/plain": [
       "array([     10000,     500000,    5000000,   50000000,     100000,\n",
       "            50000,    1000000,   10000000,       5000,  100000000,\n",
       "             1000,  500000000,        100,        500,         10,\n",
       "       1000000000,          5,         50,          1], dtype=int64)"
      ]
     },
     "execution_count": 250,
     "metadata": {},
     "output_type": "execute_result"
    }
   ],
   "source": [
    "df.Installs.unique()"
   ]
  },
  {
   "cell_type": "markdown",
   "id": "87b5b15a",
   "metadata": {},
   "source": [
    "#### - 4.4 Price field is a string and has '$' symbol. Remove dollar sign, and convert it to numeric."
   ]
  },
  {
   "cell_type": "code",
   "execution_count": 251,
   "id": "ef00ccc5",
   "metadata": {},
   "outputs": [
    {
     "data": {
      "text/plain": [
       "array(['0', '$4.99', '$6.99', '$7.99', '$3.99', '$5.99', '$2.99', '$1.99',\n",
       "       '$9.99', '$0.99', '$9.00', '$5.49', '$10.00', '$24.99', '$11.99',\n",
       "       '$79.99', '$16.99', '$14.99', '$29.99', '$12.99', '$3.49',\n",
       "       '$10.99', '$7.49', '$1.50', '$19.99', '$15.99', '$33.99', '$39.99',\n",
       "       '$2.49', '$4.49', '$1.70', '$1.49', '$3.88', '$399.99', '$17.99',\n",
       "       '$400.00', '$3.02', '$1.76', '$4.84', '$4.77', '$1.61', '$1.59',\n",
       "       '$6.49', '$1.29', '$299.99', '$379.99', '$37.99', '$18.99',\n",
       "       '$389.99', '$8.49', '$1.75', '$14.00', '$2.00', '$3.08', '$2.59',\n",
       "       '$19.40', '$15.46', '$8.99', '$3.04', '$13.99', '$4.29', '$3.28',\n",
       "       '$4.60', '$1.00', '$2.90', '$1.97', '$2.56', '$1.20'], dtype=object)"
      ]
     },
     "execution_count": 251,
     "metadata": {},
     "output_type": "execute_result"
    }
   ],
   "source": [
    "df.Price.unique()"
   ]
  },
  {
   "cell_type": "code",
   "execution_count": 252,
   "id": "28400361",
   "metadata": {},
   "outputs": [],
   "source": [
    "df.Price = df.Price.str.replace('$','').astype('float64')"
   ]
  },
  {
   "cell_type": "code",
   "execution_count": 253,
   "id": "26d07087",
   "metadata": {},
   "outputs": [
    {
     "data": {
      "text/plain": [
       "array([  0.  ,   4.99,   6.99,   7.99,   3.99,   5.99,   2.99,   1.99,\n",
       "         9.99,   0.99,   9.  ,   5.49,  10.  ,  24.99,  11.99,  79.99,\n",
       "        16.99,  14.99,  29.99,  12.99,   3.49,  10.99,   7.49,   1.5 ,\n",
       "        19.99,  15.99,  33.99,  39.99,   2.49,   4.49,   1.7 ,   1.49,\n",
       "         3.88, 399.99,  17.99, 400.  ,   3.02,   1.76,   4.84,   4.77,\n",
       "         1.61,   1.59,   6.49,   1.29, 299.99, 379.99,  37.99,  18.99,\n",
       "       389.99,   8.49,   1.75,  14.  ,   2.  ,   3.08,   2.59,  19.4 ,\n",
       "        15.46,   8.99,   3.04,  13.99,   4.29,   3.28,   4.6 ,   1.  ,\n",
       "         2.9 ,   1.97,   2.56,   1.2 ])"
      ]
     },
     "execution_count": 253,
     "metadata": {},
     "output_type": "execute_result"
    }
   ],
   "source": [
    "df.Price.unique()"
   ]
  },
  {
   "cell_type": "markdown",
   "id": "52cf9c05",
   "metadata": {},
   "source": [
    "## 5. Sanity checks:"
   ]
  },
  {
   "cell_type": "markdown",
   "id": "c5c73670",
   "metadata": {},
   "source": [
    "#### 5.1 -  Average rating should be between 1 and 5 as only these values are allowed on the play store. Drop the rows that have a value outside this range."
   ]
  },
  {
   "cell_type": "code",
   "execution_count": 255,
   "id": "16917782",
   "metadata": {},
   "outputs": [
    {
     "data": {
      "text/plain": [
       "array([4.1, 3.9, 4.7, 4.5, 4.3, 4.4, 3.8, 4.2, 4.6, 4. , 4.8, 4.9, 3.6,\n",
       "       3.7, 3.2, 3.3, 3.4, 3.5, 3.1, 5. , 2.6, 3. , 1.9, 2.5, 2.8, 2.7,\n",
       "       1. , 2.9, 2.3, 2.2, 1.7, 2. , 1.8, 2.4, 1.6, 2.1, 1.4, 1.5, 1.2])"
      ]
     },
     "execution_count": 255,
     "metadata": {},
     "output_type": "execute_result"
    }
   ],
   "source": [
    "df.Rating.unique()"
   ]
  },
  {
   "cell_type": "code",
   "execution_count": 257,
   "id": "c2a41862",
   "metadata": {},
   "outputs": [
    {
     "data": {
      "text/plain": [
       "(7723, 14)"
      ]
     },
     "execution_count": 257,
     "metadata": {},
     "output_type": "execute_result"
    }
   ],
   "source": [
    "df= df[(df.Rating >= 1) | (df.Rating <=5)]\n",
    "df.shape"
   ]
  },
  {
   "cell_type": "markdown",
   "id": "6f427c63",
   "metadata": {},
   "source": [
    "#### 5.2 - Reviews should not be more than installs as only those who installed can review the app. If there are any such records, drop them."
   ]
  },
  {
   "cell_type": "code",
   "execution_count": 259,
   "id": "9f0618fc",
   "metadata": {},
   "outputs": [
    {
     "data": {
      "text/plain": [
       "(7717, 14)"
      ]
     },
     "execution_count": 259,
     "metadata": {},
     "output_type": "execute_result"
    }
   ],
   "source": [
    "sanity_check_row = df[df.Reviews > df.Installs].index\n",
    "df.drop(sanity_check_row, inplace = True)\n",
    "df.shape"
   ]
  },
  {
   "cell_type": "markdown",
   "id": "612dd71d",
   "metadata": {},
   "source": [
    "#### 5.3 - For free apps (type = “Free”), the price should not be >0. Drop any such row"
   ]
  },
  {
   "cell_type": "code",
   "execution_count": 260,
   "id": "2eb52909",
   "metadata": {},
   "outputs": [
    {
     "data": {
      "text/plain": [
       "False"
      ]
     },
     "execution_count": 260,
     "metadata": {},
     "output_type": "execute_result"
    }
   ],
   "source": [
    "# checking if there is any such row with Type as Free and Price >0\n",
    "np.unique(df.Type[0]) == np.unique(df.Price[0])\n"
   ]
  },
  {
   "cell_type": "markdown",
   "id": "a84ecc4d",
   "metadata": {},
   "source": [
    "False means there is no such case where Type = Free and also Price is >0"
   ]
  },
  {
   "cell_type": "markdown",
   "id": "31ca4b0d",
   "metadata": {},
   "source": [
    "## 5. Performing univariate analysis: "
   ]
  },
  {
   "cell_type": "code",
   "execution_count": 261,
   "id": "4186f3b9",
   "metadata": {},
   "outputs": [
    {
     "data": {
      "image/png": "[encoded data removed]",
      "text/plain": [
       "<Figure size 1008x576 with 1 Axes>"
      ]
     },
     "metadata": {
      "needs_background": "light"
     },
     "output_type": "display_data"
    }
   ],
   "source": [
    "#----Boxplot for Price\n",
    "\n",
    "plt.figure(figsize=[14,8])\n",
    "sns.boxplot(x='Price', data=df)\n",
    "plt.show()"
   ]
  },
  {
   "cell_type": "markdown",
   "id": "5534e07b",
   "metadata": {},
   "source": [
    "**Questions:** Are there any outliers? Think about the price of usual apps on Play Store.\n",
    "\n",
    "**Answer:** Yes, there are outliers present in Price and anything above 50 should be removed.\n",
    "\n"
   ]
  },
  {
   "cell_type": "code",
   "execution_count": 262,
   "id": "4e9c10d0",
   "metadata": {},
   "outputs": [
    {
     "data": {
      "image/png": "[encoded data removed]",
      "text/plain": [
       "<Figure size 1008x576 with 1 Axes>"
      ]
     },
     "metadata": {
      "needs_background": "light"
     },
     "output_type": "display_data"
    }
   ],
   "source": [
    "# ---- Boxplot for Reviews\n",
    "\n",
    "plt.figure(figsize=[14,8])\n",
    "sns.boxplot(df['Reviews'])\n",
    "plt.show()\n",
    "\n",
    "#seems there is one outlier, the value seems correct because its in limit."
   ]
  },
  {
   "cell_type": "code",
   "execution_count": 265,
   "id": "877684a6",
   "metadata": {},
   "outputs": [
    {
     "data": {
      "image/png": "[encoded data removed]",
      "text/plain": [
       "<Figure size 1008x576 with 1 Axes>"
      ]
     },
     "metadata": {
      "needs_background": "light"
     },
     "output_type": "display_data"
    }
   ],
   "source": [
    "# Histogram for Rating\n",
    "\n",
    "plt.figure(figsize=[14,8])\n",
    "plt.hist(df['Rating'], color=\"Orange\", edgecolor='black')\n",
    "plt.show()\n",
    "\n",
    "# How are the ratings distributed? Is it more toward higher ratings?\n",
    "#Very few apps have less no.of Ratings, there are more towards higher Ratings"
   ]
  },
  {
   "cell_type": "code",
   "execution_count": 266,
   "id": "496b8517",
   "metadata": {},
   "outputs": [
    {
     "data": {
      "image/png": "[encoded data removed]",
      "text/plain": [
       "<Figure size 1008x576 with 1 Axes>"
      ]
     },
     "metadata": {
      "needs_background": "light"
     },
     "output_type": "display_data"
    }
   ],
   "source": [
    "# Histogram for Size\n",
    "\n",
    "plt.figure(figsize=[14,8])\n",
    "plt.hist(df.Size, color='Purple',edgecolor='black')\n",
    "plt.show()"
   ]
  },
  {
   "cell_type": "markdown",
   "id": "9619cfba",
   "metadata": {},
   "source": [
    "## 6. Outlier treatment: "
   ]
  },
  {
   "cell_type": "markdown",
   "id": "bfeeaad2",
   "metadata": {},
   "source": [
    "6:1 Price: From the box plot, it seems like there are some apps with very high price. A price of $200 for an application on the Play Store is very high and suspicious!\n",
    "6:1: Check out the records with very high price\n",
    "\n",
    "6:1:1 Is 200 indeed a high price?\n",
    "\n",
    "6:1:2 Drop these as most seem to be junk apps"
   ]
  },
  {
   "cell_type": "code",
   "execution_count": 28,
   "id": "1aab4370",
   "metadata": {},
   "outputs": [
    {
     "data": {
      "text/plain": [
       "array([  0.  ,   4.99,   6.99,   7.99,   3.99,   5.99,   2.99,   1.99,\n",
       "         9.99,   0.99,   9.  ,   5.49,  10.  ,  24.99,  11.99,  79.99,\n",
       "        16.99,  14.99,  29.99,  12.99,   3.49,  10.99,   7.49,   1.5 ,\n",
       "        19.99,  15.99,  33.99,  39.99,   2.49,   4.49,   1.7 ,   1.49,\n",
       "         3.88, 399.99,  17.99, 400.  ,   3.02,   1.76,   4.84,   4.77,\n",
       "         1.61,   1.59,   6.49,   1.29, 299.99, 379.99,  37.99,  18.99,\n",
       "       389.99,   8.49,   1.75,  14.  ,   2.  ,   3.08,   2.59,  19.4 ,\n",
       "        15.46,   8.99,   3.04,  13.99,   4.29,   3.28,   4.6 ,   1.  ,\n",
       "         2.9 ,   1.97,   2.56,   1.2 ])"
      ]
     },
     "execution_count": 28,
     "metadata": {},
     "output_type": "execute_result"
    }
   ],
   "source": [
    "df[\"Price\"].unique()  # there are values more than $200 "
   ]
  },
  {
   "cell_type": "code",
   "execution_count": 29,
   "id": "71443db4",
   "metadata": {},
   "outputs": [],
   "source": [
    "values_more_than_200 = df[(df.Price>=200)].index"
   ]
  },
  {
   "cell_type": "code",
   "execution_count": 30,
   "id": "f39b50e4",
   "metadata": {},
   "outputs": [],
   "source": [
    "df.drop(values_more_than_200, axis=0, inplace=True)"
   ]
  },
  {
   "cell_type": "code",
   "execution_count": 31,
   "id": "222c5a94",
   "metadata": {},
   "outputs": [
    {
     "data": {
      "text/plain": [
       "(7702, 14)"
      ]
     },
     "execution_count": 31,
     "metadata": {},
     "output_type": "execute_result"
    }
   ],
   "source": [
    "df.shape # values more than $200 are now removed"
   ]
  },
  {
   "cell_type": "code",
   "execution_count": 32,
   "id": "67842de6",
   "metadata": {},
   "outputs": [
    {
     "data": {
      "text/plain": [
       "<AxesSubplot:xlabel='Price'>"
      ]
     },
     "execution_count": 32,
     "metadata": {},
     "output_type": "execute_result"
    },
    {
     "data": {
      "image/png": "[encoded data removed]",
      "text/plain": [
       "<Figure size 432x288 with 1 Axes>"
      ]
     },
     "metadata": {
      "needs_background": "light"
     },
     "output_type": "display_data"
    }
   ],
   "source": [
    "sns.boxplot(df['Price'])  # no data points more than $200"
   ]
  },
  {
   "cell_type": "markdown",
   "id": "bf3836e9",
   "metadata": {},
   "source": [
    "**6:2 Reviews: Very few apps have very high number of reviews.** \n",
    "\n",
    "- These are all star apps that don’t help with the analysis and, in fact, will skew it.\n",
    "\n",
    "- Drop records having more than 2 million reviews.\n"
   ]
  },
  {
   "cell_type": "markdown",
   "id": "39b55881",
   "metadata": {},
   "source": [
    "sns.boxplot(df.Reviews)"
   ]
  },
  {
   "cell_type": "code",
   "execution_count": 33,
   "id": "aa5f40fb",
   "metadata": {},
   "outputs": [],
   "source": [
    "reviews_more_than_2M = df[(df['Reviews']>2000000)].index"
   ]
  },
  {
   "cell_type": "code",
   "execution_count": 34,
   "id": "e1cf83b8",
   "metadata": {},
   "outputs": [],
   "source": [
    "df.drop(reviews_more_than_2M, inplace=True)"
   ]
  },
  {
   "cell_type": "code",
   "execution_count": 35,
   "id": "0c9f3984",
   "metadata": {},
   "outputs": [
    {
     "data": {
      "text/plain": [
       "(7483, 14)"
      ]
     },
     "execution_count": 35,
     "metadata": {},
     "output_type": "execute_result"
    }
   ],
   "source": [
    "df.shape   # Reviews more than $2M removed"
   ]
  },
  {
   "cell_type": "code",
   "execution_count": 36,
   "id": "f9ad4ded",
   "metadata": {},
   "outputs": [
    {
     "data": {
      "text/plain": [
       "<AxesSubplot:xlabel='Reviews'>"
      ]
     },
     "execution_count": 36,
     "metadata": {},
     "output_type": "execute_result"
    },
    {
     "data": {
      "image/png": "[encoded data removed]",
      "text/plain": [
       "<Figure size 432x288 with 1 Axes>"
      ]
     },
     "metadata": {
      "needs_background": "light"
     },
     "output_type": "display_data"
    }
   ],
   "source": [
    "sns.boxplot(df.Reviews)"
   ]
  },
  {
   "cell_type": "markdown",
   "id": "b79757f3",
   "metadata": {},
   "source": [
    "**6:3 Installs:  There seems to be some outliers in this field too. Apps having very high number of installs should be dropped from the analysis.**\n",
    "\n",
    "- Find out the different percentiles – 10, 25, 50, 70, 90, 95, 99\n",
    "\n",
    "- Decide a threshold as cutoff for outlier and drop records having values more than that"
   ]
  },
  {
   "cell_type": "code",
   "execution_count": 37,
   "id": "becfe9c5",
   "metadata": {},
   "outputs": [
    {
     "data": {
      "text/plain": [
       "<AxesSubplot:xlabel='Installs'>"
      ]
     },
     "execution_count": 37,
     "metadata": {},
     "output_type": "execute_result"
    },
    {
     "data": {
      "image/png": "[encoded data removed]",
      "text/plain": [
       "<Figure size 432x288 with 1 Axes>"
      ]
     },
     "metadata": {
      "needs_background": "light"
     },
     "output_type": "display_data"
    }
   ],
   "source": [
    "sns.boxplot(df['Installs'])"
   ]
  },
  {
   "cell_type": "code",
   "execution_count": 38,
   "id": "869fc051",
   "metadata": {},
   "outputs": [
    {
     "data": {
      "text/plain": [
       "0.10        1000.0\n",
       "0.25       10000.0\n",
       "0.50      100000.0\n",
       "0.70     1000000.0\n",
       "0.90    10000000.0\n",
       "0.95    10000000.0\n",
       "0.99    50000000.0\n",
       "Name: Installs, dtype: float64"
      ]
     },
     "execution_count": 38,
     "metadata": {},
     "output_type": "execute_result"
    }
   ],
   "source": [
    "df.Installs.quantile([0.1, 0.25, 0.5, 0.70, 0.9, 0.95, 0.99])"
   ]
  },
  {
   "cell_type": "code",
   "execution_count": 39,
   "id": "d67d73aa",
   "metadata": {},
   "outputs": [
    {
     "data": {
      "text/plain": [
       "array([     10000,     500000,    5000000,   50000000,     100000,\n",
       "            50000,    1000000,   10000000,       5000,  100000000,\n",
       "             1000,        100,        500,         10,          5,\n",
       "               50,  500000000, 1000000000], dtype=int64)"
      ]
     },
     "execution_count": 39,
     "metadata": {},
     "output_type": "execute_result"
    }
   ],
   "source": [
    "df.Installs.unique()"
   ]
  },
  {
   "cell_type": "code",
   "execution_count": 40,
   "id": "16e7e4f7",
   "metadata": {},
   "outputs": [],
   "source": [
    "df.drop(df[(df.Installs>=10000000.0)].index, axis=0, inplace= True)"
   ]
  },
  {
   "cell_type": "code",
   "execution_count": 41,
   "id": "51554c95",
   "metadata": {},
   "outputs": [
    {
     "data": {
      "text/plain": [
       "(6489, 14)"
      ]
     },
     "execution_count": 41,
     "metadata": {},
     "output_type": "execute_result"
    }
   ],
   "source": [
    "df.shape"
   ]
  },
  {
   "cell_type": "markdown",
   "id": "7c5ef7eb",
   "metadata": {},
   "source": [
    "## 7. Bivariate analysis:"
   ]
  },
  {
   "cell_type": "markdown",
   "id": "9ccb17a0",
   "metadata": {},
   "source": [
    "**8.1 Make scatter plot/joinplot for Rating vs. Price**\n",
    "\n",
    "--What pattern do you observe? Does rating increase with price?\n",
    "\n"
   ]
  },
  {
   "cell_type": "code",
   "execution_count": 42,
   "id": "f6a74f01",
   "metadata": {},
   "outputs": [
    {
     "data": {
      "text/plain": [
       "Text(0.5, 1.0, 'Rating vs Price')"
      ]
     },
     "execution_count": 42,
     "metadata": {},
     "output_type": "execute_result"
    },
    {
     "data": {
      "image/png": "[encoded data removed]",
      "text/plain": [
       "<Figure size 1008x576 with 1 Axes>"
      ]
     },
     "metadata": {
      "needs_background": "light"
     },
     "output_type": "display_data"
    }
   ],
   "source": [
    "plt.figure(figsize=[14,8])\n",
    "plt.scatter(x=df.Price,y=df.Rating)\n",
    "plt.title('Rating vs Price',loc='Center', fontsize=20, color='green')\n",
    "\n",
    "\n",
    "# here it can be observed that most apps with high price have ratings >3 also ratings increase with the price"
   ]
  },
  {
   "cell_type": "markdown",
   "id": "f9c7eb48",
   "metadata": {},
   "source": [
    "**8.2 Make scatter plot/joinplot for Rating vs. Size**\n",
    "\n",
    "--Are heavier apps rated better?\n",
    "\n"
   ]
  },
  {
   "cell_type": "code",
   "execution_count": 43,
   "id": "978778c7",
   "metadata": {},
   "outputs": [
    {
     "data": {
      "image/png": "[encoded data removed]",
      "text/plain": [
       "<Figure size 1008x576 with 1 Axes>"
      ]
     },
     "metadata": {
      "needs_background": "light"
     },
     "output_type": "display_data"
    }
   ],
   "source": [
    "plt.figure(figsize=[14,8])\n",
    "sns.scatterplot(x='Size', y='Rating',data=df)\n",
    "plt.title('Rating vs Size',loc='Center', fontsize=20, color='red')\n",
    "plt.show()\n",
    "\n",
    "# It can be observed that largers apps have higher ratings"
   ]
  },
  {
   "cell_type": "markdown",
   "id": "8a6529ca",
   "metadata": {},
   "source": [
    "**8.3 Make scatter plot/joinplot for Rating vs. Reviews**\n",
    "\n",
    "--Does more review mean a better rating always?\n",
    "\n"
   ]
  },
  {
   "cell_type": "code",
   "execution_count": 44,
   "id": "1cf32c13",
   "metadata": {},
   "outputs": [
    {
     "data": {
      "image/png": "[encoded data removed]",
      "text/plain": [
       "<Figure size 1008x576 with 1 Axes>"
      ]
     },
     "metadata": {
      "needs_background": "light"
     },
     "output_type": "display_data"
    }
   ],
   "source": [
    "plt.figure(figsize=[14,8])\n",
    "sns.scatterplot(x='Reviews', y='Rating', data=df)\n",
    "plt.title('Rating vs Reviews', loc='center', fontsize= 20,color='Red')\n",
    "plt.show()\n",
    "\n",
    "#  Scatter plot indicates higher rating apps having Max reviews"
   ]
  },
  {
   "cell_type": "markdown",
   "id": "6395e834",
   "metadata": {},
   "source": [
    "**8.4 Make boxplot for Rating vs. Content Rating**\n",
    "\n",
    "--Is there any difference in the ratings? Are some types liked better?"
   ]
  },
  {
   "cell_type": "code",
   "execution_count": 71,
   "id": "3aed05f0",
   "metadata": {},
   "outputs": [
    {
     "data": {
      "image/png": "[encoded data removed]",
      "text/plain": [
       "<Figure size 1152x720 with 1 Axes>"
      ]
     },
     "metadata": {
      "needs_background": "light"
     },
     "output_type": "display_data"
    }
   ],
   "source": [
    "plt.figure(figsize=[16,10])\n",
    "sns.boxplot(x='Content Rating', y='Rating', data=df)\n",
    "plt.title('Rating vs Content Rating', loc='center', fontsize=20, color='blue')\n",
    "\n",
    "plt.show()\n",
    "\n",
    "# adult only 18+ has higher ratings with no outliers and rest others are almost the same "
   ]
  },
  {
   "cell_type": "markdown",
   "id": "ff05a62c",
   "metadata": {},
   "source": [
    "**7:5 Make boxplot for Ratings vs. Category**\n",
    "\n",
    "--Which genre has the best ratings?"
   ]
  },
  {
   "cell_type": "code",
   "execution_count": 70,
   "id": "f01722f6",
   "metadata": {},
   "outputs": [
    {
     "data": {
      "image/png": "[encoded data removed]",
      "text/plain": [
       "<Figure size 1080x720 with 1 Axes>"
      ]
     },
     "metadata": {
      "needs_background": "light"
     },
     "output_type": "display_data"
    }
   ],
   "source": [
    "plt.figure(figsize=[15,10])\n",
    "sns.boxplot(x='Category', y='Rating', data=df)\n",
    "plt.title('Rating vs Category', loc='center', fontsize=20, color='blue')\n",
    "plt.xticks(rotation=90)\n",
    "plt.show()\n",
    "\n",
    "# by looking at the boxplot we can see that Event Genre has the best rating with  no outliers"
   ]
  },
  {
   "cell_type": "markdown",
   "id": "c50e7766",
   "metadata": {},
   "source": [
    "## 8. Data preprocessing\n",
    "\n"
   ]
  },
  {
   "cell_type": "markdown",
   "id": "eca29378",
   "metadata": {},
   "source": [
    "For the steps below, create a copy of the dataframe to make all the edits. Name it inp1.\n",
    "\n",
    "- Reviews and Install have some values that are still relatively very high. Before building a linear regression model, you need to reduce the skew. Apply log transformation (np.log1p) to Reviews and Installs.\n",
    "\n",
    "- Drop columns App, Last Updated, Current Ver, and Android Ver. These variables are not useful for our task.\n",
    "\n",
    "- Get dummy columns for Category, Genres, and Content Rating. This needs to be done as the models do not understand categorical data, and all data should be numeric. Dummy encoding is one way to convert character fields to numeric. Name of dataframe should be inp2."
   ]
  },
  {
   "cell_type": "code",
   "execution_count": 47,
   "id": "c97f74d3",
   "metadata": {},
   "outputs": [],
   "source": [
    "inp1 = df.copy()"
   ]
  },
  {
   "cell_type": "code",
   "execution_count": 48,
   "id": "77cac5ce",
   "metadata": {},
   "outputs": [
    {
     "data": {
      "text/html": [
       "<div>\n",
       "<style scoped>\n",
       "    .dataframe tbody tr th:only-of-type {\n",
       "        vertical-align: middle;\n",
       "    }\n",
       "\n",
       "    .dataframe tbody tr th {\n",
       "        vertical-align: top;\n",
       "    }\n",
       "\n",
       "    .dataframe thead th {\n",
       "        text-align: right;\n",
       "    }\n",
       "</style>\n",
       "<table border=\"1\" class=\"dataframe\">\n",
       "  <thead>\n",
       "    <tr style=\"text-align: right;\">\n",
       "      <th></th>\n",
       "      <th>App</th>\n",
       "      <th>Category</th>\n",
       "      <th>Rating</th>\n",
       "      <th>Reviews</th>\n",
       "      <th>Size</th>\n",
       "      <th>Installs</th>\n",
       "      <th>Type</th>\n",
       "      <th>Price</th>\n",
       "      <th>Content Rating</th>\n",
       "      <th>Genres</th>\n",
       "      <th>Last Updated</th>\n",
       "      <th>Current Ver</th>\n",
       "      <th>Android Ver</th>\n",
       "      <th>formated_size</th>\n",
       "    </tr>\n",
       "  </thead>\n",
       "  <tbody>\n",
       "    <tr>\n",
       "      <th>0</th>\n",
       "      <td>Photo Editor &amp; Candy Camera &amp; Grid &amp; ScrapBook</td>\n",
       "      <td>ART_AND_DESIGN</td>\n",
       "      <td>4.1</td>\n",
       "      <td>159.0</td>\n",
       "      <td>19000.0</td>\n",
       "      <td>10000</td>\n",
       "      <td>Free</td>\n",
       "      <td>0.0</td>\n",
       "      <td>Everyone</td>\n",
       "      <td>Art &amp; Design</td>\n",
       "      <td>January 7, 2018</td>\n",
       "      <td>1.0.0</td>\n",
       "      <td>4.0.3 and up</td>\n",
       "      <td>19000.0</td>\n",
       "    </tr>\n",
       "    <tr>\n",
       "      <th>1</th>\n",
       "      <td>Coloring book moana</td>\n",
       "      <td>ART_AND_DESIGN</td>\n",
       "      <td>3.9</td>\n",
       "      <td>967.0</td>\n",
       "      <td>14000.0</td>\n",
       "      <td>500000</td>\n",
       "      <td>Free</td>\n",
       "      <td>0.0</td>\n",
       "      <td>Everyone</td>\n",
       "      <td>Art &amp; Design;Pretend Play</td>\n",
       "      <td>January 15, 2018</td>\n",
       "      <td>2.0.0</td>\n",
       "      <td>4.0.3 and up</td>\n",
       "      <td>14000.0</td>\n",
       "    </tr>\n",
       "  </tbody>\n",
       "</table>\n",
       "</div>"
      ],
      "text/plain": [
       "                                              App        Category  Rating  \\\n",
       "0  Photo Editor & Candy Camera & Grid & ScrapBook  ART_AND_DESIGN     4.1   \n",
       "1                             Coloring book moana  ART_AND_DESIGN     3.9   \n",
       "\n",
       "   Reviews     Size  Installs  Type  Price Content Rating  \\\n",
       "0    159.0  19000.0     10000  Free    0.0       Everyone   \n",
       "1    967.0  14000.0    500000  Free    0.0       Everyone   \n",
       "\n",
       "                      Genres      Last Updated Current Ver   Android Ver  \\\n",
       "0               Art & Design   January 7, 2018       1.0.0  4.0.3 and up   \n",
       "1  Art & Design;Pretend Play  January 15, 2018       2.0.0  4.0.3 and up   \n",
       "\n",
       "   formated_size  \n",
       "0        19000.0  \n",
       "1        14000.0  "
      ]
     },
     "execution_count": 48,
     "metadata": {},
     "output_type": "execute_result"
    }
   ],
   "source": [
    "inp1.head(2)"
   ]
  },
  {
   "cell_type": "code",
   "execution_count": 49,
   "id": "4504eb65",
   "metadata": {},
   "outputs": [
    {
     "data": {
      "text/plain": [
       "(6489, 14)"
      ]
     },
     "execution_count": 49,
     "metadata": {},
     "output_type": "execute_result"
    }
   ],
   "source": [
    "inp1.shape # all the records copied"
   ]
  },
  {
   "cell_type": "code",
   "execution_count": 50,
   "id": "de28c12f",
   "metadata": {},
   "outputs": [],
   "source": [
    "inp1.Reviews = np.log1p(inp1.Reviews)\n",
    "inp1.Installs= np.log1p(inp1.Installs)"
   ]
  },
  {
   "cell_type": "code",
   "execution_count": 51,
   "id": "213fb6dc",
   "metadata": {},
   "outputs": [],
   "source": [
    "# drop colums App, Last Updated, Current Ver, and Android Ver\n",
    "inp1.drop(['App', 'Last Updated', 'Current Ver', 'Android Ver'], axis=1, inplace=True)"
   ]
  },
  {
   "cell_type": "code",
   "execution_count": 52,
   "id": "77c380a3",
   "metadata": {},
   "outputs": [
    {
     "data": {
      "text/plain": [
       "(6489, 10)"
      ]
     },
     "execution_count": 52,
     "metadata": {},
     "output_type": "execute_result"
    }
   ],
   "source": [
    "inp1.shape  # all 4 columns are now removed"
   ]
  },
  {
   "cell_type": "code",
   "execution_count": 53,
   "id": "fdbe9f76",
   "metadata": {},
   "outputs": [],
   "source": [
    "# Get dummy columns for Category, Genres, and Content Rating\n",
    "inp2 = pd.get_dummies( inp1, columns= ['Category', 'Genres', 'Content Rating','Type'])"
   ]
  },
  {
   "cell_type": "code",
   "execution_count": 54,
   "id": "0ff74290",
   "metadata": {},
   "outputs": [
    {
     "data": {
      "text/html": [
       "<div>\n",
       "<style scoped>\n",
       "    .dataframe tbody tr th:only-of-type {\n",
       "        vertical-align: middle;\n",
       "    }\n",
       "\n",
       "    .dataframe tbody tr th {\n",
       "        vertical-align: top;\n",
       "    }\n",
       "\n",
       "    .dataframe thead th {\n",
       "        text-align: right;\n",
       "    }\n",
       "</style>\n",
       "<table border=\"1\" class=\"dataframe\">\n",
       "  <thead>\n",
       "    <tr style=\"text-align: right;\">\n",
       "      <th></th>\n",
       "      <th>Rating</th>\n",
       "      <th>Reviews</th>\n",
       "      <th>Size</th>\n",
       "      <th>Installs</th>\n",
       "      <th>Price</th>\n",
       "      <th>formated_size</th>\n",
       "      <th>Category_ART_AND_DESIGN</th>\n",
       "      <th>Category_AUTO_AND_VEHICLES</th>\n",
       "      <th>Category_BEAUTY</th>\n",
       "      <th>Category_BOOKS_AND_REFERENCE</th>\n",
       "      <th>...</th>\n",
       "      <th>Genres_Weather</th>\n",
       "      <th>Genres_Word</th>\n",
       "      <th>Content Rating_Adults only 18+</th>\n",
       "      <th>Content Rating_Everyone</th>\n",
       "      <th>Content Rating_Everyone 10+</th>\n",
       "      <th>Content Rating_Mature 17+</th>\n",
       "      <th>Content Rating_Teen</th>\n",
       "      <th>Content Rating_Unrated</th>\n",
       "      <th>Type_Free</th>\n",
       "      <th>Type_Paid</th>\n",
       "    </tr>\n",
       "  </thead>\n",
       "  <tbody>\n",
       "    <tr>\n",
       "      <th>0</th>\n",
       "      <td>4.1</td>\n",
       "      <td>5.075174</td>\n",
       "      <td>19000.0</td>\n",
       "      <td>9.210440</td>\n",
       "      <td>0.0</td>\n",
       "      <td>19000.0</td>\n",
       "      <td>1</td>\n",
       "      <td>0</td>\n",
       "      <td>0</td>\n",
       "      <td>0</td>\n",
       "      <td>...</td>\n",
       "      <td>0</td>\n",
       "      <td>0</td>\n",
       "      <td>0</td>\n",
       "      <td>1</td>\n",
       "      <td>0</td>\n",
       "      <td>0</td>\n",
       "      <td>0</td>\n",
       "      <td>0</td>\n",
       "      <td>1</td>\n",
       "      <td>0</td>\n",
       "    </tr>\n",
       "    <tr>\n",
       "      <th>1</th>\n",
       "      <td>3.9</td>\n",
       "      <td>6.875232</td>\n",
       "      <td>14000.0</td>\n",
       "      <td>13.122365</td>\n",
       "      <td>0.0</td>\n",
       "      <td>14000.0</td>\n",
       "      <td>1</td>\n",
       "      <td>0</td>\n",
       "      <td>0</td>\n",
       "      <td>0</td>\n",
       "      <td>...</td>\n",
       "      <td>0</td>\n",
       "      <td>0</td>\n",
       "      <td>0</td>\n",
       "      <td>1</td>\n",
       "      <td>0</td>\n",
       "      <td>0</td>\n",
       "      <td>0</td>\n",
       "      <td>0</td>\n",
       "      <td>1</td>\n",
       "      <td>0</td>\n",
       "    </tr>\n",
       "  </tbody>\n",
       "</table>\n",
       "<p>2 rows × 155 columns</p>\n",
       "</div>"
      ],
      "text/plain": [
       "   Rating   Reviews     Size   Installs  Price  formated_size  \\\n",
       "0     4.1  5.075174  19000.0   9.210440    0.0        19000.0   \n",
       "1     3.9  6.875232  14000.0  13.122365    0.0        14000.0   \n",
       "\n",
       "   Category_ART_AND_DESIGN  Category_AUTO_AND_VEHICLES  Category_BEAUTY  \\\n",
       "0                        1                           0                0   \n",
       "1                        1                           0                0   \n",
       "\n",
       "   Category_BOOKS_AND_REFERENCE  ...  Genres_Weather  Genres_Word  \\\n",
       "0                             0  ...               0            0   \n",
       "1                             0  ...               0            0   \n",
       "\n",
       "   Content Rating_Adults only 18+  Content Rating_Everyone  \\\n",
       "0                               0                        1   \n",
       "1                               0                        1   \n",
       "\n",
       "   Content Rating_Everyone 10+  Content Rating_Mature 17+  \\\n",
       "0                            0                          0   \n",
       "1                            0                          0   \n",
       "\n",
       "   Content Rating_Teen  Content Rating_Unrated  Type_Free  Type_Paid  \n",
       "0                    0                       0          1          0  \n",
       "1                    0                       0          1          0  \n",
       "\n",
       "[2 rows x 155 columns]"
      ]
     },
     "execution_count": 54,
     "metadata": {},
     "output_type": "execute_result"
    }
   ],
   "source": [
    "inp2.head(2)"
   ]
  },
  {
   "cell_type": "code",
   "execution_count": 55,
   "id": "f032b422",
   "metadata": {},
   "outputs": [
    {
     "data": {
      "text/plain": [
       "(6489, 155)"
      ]
     },
     "execution_count": 55,
     "metadata": {},
     "output_type": "execute_result"
    }
   ],
   "source": [
    "inp2.shape"
   ]
  },
  {
   "cell_type": "markdown",
   "id": "1aed5e78",
   "metadata": {},
   "source": [
    "## 9: Train test split and apply 70-30 split. Name the new dataframes df_train and df_test."
   ]
  },
  {
   "cell_type": "code",
   "execution_count": 58,
   "id": "99ffd3e3",
   "metadata": {},
   "outputs": [],
   "source": [
    "# splitting the dataset into 70%-train and 30%-test\n",
    "from sklearn.model_selection import train_test_split\n",
    "df_train, df_test = train_test_split(inp2, test_size=0.3,random_state=100)\n"
   ]
  },
  {
   "cell_type": "markdown",
   "id": "efe63d32",
   "metadata": {},
   "source": [
    "## 10. Separate the dataframes into X_train, y_train, X_test, and y_test."
   ]
  },
  {
   "cell_type": "code",
   "execution_count": 59,
   "id": "9995f65d",
   "metadata": {},
   "outputs": [],
   "source": [
    "y_train = df_train.pop('Rating')\n",
    "X_train = df_train"
   ]
  },
  {
   "cell_type": "code",
   "execution_count": 60,
   "id": "c577b90e",
   "metadata": {},
   "outputs": [
    {
     "data": {
      "text/plain": [
       "(4542, 154)"
      ]
     },
     "execution_count": 60,
     "metadata": {},
     "output_type": "execute_result"
    }
   ],
   "source": [
    "X_train.shape"
   ]
  },
  {
   "cell_type": "code",
   "execution_count": 61,
   "id": "d6fdf8e2",
   "metadata": {},
   "outputs": [
    {
     "data": {
      "text/plain": [
       "(4542,)"
      ]
     },
     "execution_count": 61,
     "metadata": {},
     "output_type": "execute_result"
    }
   ],
   "source": [
    "y_train.shape"
   ]
  },
  {
   "cell_type": "code",
   "execution_count": 62,
   "id": "e1bc7bbc",
   "metadata": {},
   "outputs": [],
   "source": [
    "y_test = df_test.pop(\"Rating\")\n",
    "X_test = df_test"
   ]
  },
  {
   "cell_type": "code",
   "execution_count": 63,
   "id": "1ec5dc76",
   "metadata": {},
   "outputs": [
    {
     "data": {
      "text/plain": [
       "(1947, 154)"
      ]
     },
     "execution_count": 63,
     "metadata": {},
     "output_type": "execute_result"
    }
   ],
   "source": [
    "X_test.shape"
   ]
  },
  {
   "cell_type": "code",
   "execution_count": 64,
   "id": "a947efad",
   "metadata": {},
   "outputs": [
    {
     "data": {
      "text/plain": [
       "(1947,)"
      ]
     },
     "execution_count": 64,
     "metadata": {},
     "output_type": "execute_result"
    }
   ],
   "source": [
    "y_test.shape"
   ]
  },
  {
   "cell_type": "markdown",
   "id": "04dbb024",
   "metadata": {},
   "source": [
    "## 11 . Model building\n",
    "\n",
    "- Use linear regression as the technique\n",
    "\n",
    "- Report the R2 on the train set"
   ]
  },
  {
   "cell_type": "code",
   "execution_count": 65,
   "id": "c8661aea",
   "metadata": {},
   "outputs": [],
   "source": [
    "# Model Builiding using Linear Regression\n",
    "\n",
    "# importing LinearRegression package from SciKit Learn\n",
    "\n",
    "from sklearn.linear_model import LinearRegression"
   ]
  },
  {
   "cell_type": "code",
   "execution_count": 66,
   "id": "642c185e",
   "metadata": {},
   "outputs": [
    {
     "data": {
      "text/plain": [
       "LinearRegression()"
      ]
     },
     "execution_count": 66,
     "metadata": {},
     "output_type": "execute_result"
    }
   ],
   "source": [
    "#initialize the model in a variable\n",
    "model = LinearRegression()\n",
    "\n",
    "#looking for best fit line\n",
    "model.fit(X_train, y_train)"
   ]
  },
  {
   "cell_type": "code",
   "execution_count": 67,
   "id": "2ae16a42",
   "metadata": {},
   "outputs": [
    {
     "name": "stdout",
     "output_type": "stream",
     "text": [
      "R2 Score by train is: 0.14998979685933755\n"
     ]
    }
   ],
   "source": [
    "# importing R2 Score package from Scikit Learn to compute R2 Scores\n",
    "\n",
    "from sklearn.metrics import r2_score\n",
    "y_train_pred= model.predict(X_train)\n",
    "\n",
    "print(\"R2 Score by train is:\", r2_score(y_train, y_train_pred))\n"
   ]
  },
  {
   "cell_type": "markdown",
   "id": "ab7f5a39",
   "metadata": {},
   "source": [
    "- So, the R2 Score is really low that means this model did not perform well and is not the best fit for this dataset. We would need to try some other algorithm for the best possible fit. "
   ]
  },
  {
   "cell_type": "markdown",
   "id": "0ede4ab1",
   "metadata": {},
   "source": [
    "## End of the Project !!!"
   ]
  },
  {
   "cell_type": "code",
   "execution_count": null,
   "id": "0f7c4e0f",
   "metadata": {},
   "outputs": [],
   "source": []
  }
 ],
 "metadata": {
  "kernelspec": {
   "display_name": "Python 3 (ipykernel)",
   "language": "python",
   "name": "python3"
  },
  "language_info": {
   "codemirror_mode": {
    "name": "ipython",
    "version": 3
   },
   "file_extension": ".py",
   "mimetype": "text/x-python",
   "name": "python",
   "nbconvert_exporter": "python",
   "pygments_lexer": "ipython3",
   "version": "3.9.7"
  }
 },
 "nbformat": 4,
 "nbformat_minor": 5
}
